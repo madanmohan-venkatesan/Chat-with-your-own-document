{
  "nbformat": 4,
  "nbformat_minor": 0,
  "metadata": {
    "colab": {
      "provenance": [],
      "gpuType": "T4",
      "include_colab_link": true
    },
    "kernelspec": {
      "name": "python3",
      "display_name": "Python 3"
    },
    "language_info": {
      "name": "python"
    },
    "accelerator": "GPU"
  },
  "cells": [
    {
      "cell_type": "markdown",
      "metadata": {
        "id": "view-in-github",
        "colab_type": "text"
      },
      "source": [
        "<a href=\"https://colab.research.google.com/github/madanmohan-venkatesan/Chat-with-your-own-document/blob/main/llama_rag_with_colab_demo.ipynb\" target=\"_parent\"><img src=\"https://colab.research.google.com/assets/colab-badge.svg\" alt=\"Open In Colab\"/></a>"
      ]
    },
    {
      "cell_type": "code",
      "source": [
        "from pathlib import Path\n",
        "from google.colab import userdata"
      ],
      "metadata": {
        "id": "EtkaGyu2y7Ys"
      },
      "execution_count": null,
      "outputs": []
    },
    {
      "cell_type": "code",
      "source": [
        "!npm install localtunnel >> local_install_logs.out"
      ],
      "metadata": {
        "id": "1oZ6RuN2_wNy"
      },
      "execution_count": null,
      "outputs": []
    },
    {
      "cell_type": "code",
      "source": [
        "!pip install poetry >> poetry_install_logs.out"
      ],
      "metadata": {
        "id": "jpEcURan8PNd"
      },
      "execution_count": null,
      "outputs": []
    },
    {
      "cell_type": "code",
      "execution_count": null,
      "metadata": {
        "id": "qQrki-aA8M5v"
      },
      "outputs": [],
      "source": [
        "!git clone https://github.com/madanmohan-venkatesan/Chat-with-your-own-document.git"
      ]
    },
    {
      "cell_type": "code",
      "source": [
        "%cd /content/Chat-with-your-own-document/Chat-with-your-own-document"
      ],
      "metadata": {
        "id": "BF-Hv7_P8dmI"
      },
      "execution_count": null,
      "outputs": []
    },
    {
      "cell_type": "code",
      "source": [
        "!ls -ltr"
      ],
      "metadata": {
        "id": "c1X8KqVk9AZv"
      },
      "execution_count": null,
      "outputs": []
    },
    {
      "cell_type": "code",
      "source": [
        "!poetry install >> requirements_install_logs.out"
      ],
      "metadata": {
        "id": "dN0osfj-9CxP"
      },
      "execution_count": null,
      "outputs": []
    },
    {
      "cell_type": "code",
      "source": [
        "HF_TOKEN=userdata.get('HF_TOKEN')\n",
        "secret_path=Path(\".streamlit\")\n",
        "secret_path.mkdir(exist_ok=True)\n",
        "secret_file=Path.joinpath(secret_path,\"secrets.toml\")\n",
        "with secret_file.open(\"w\") as f:\n",
        "  f.write(f\"HF_TOKEN=\\\"{HF_TOKEN}\\\"\")"
      ],
      "metadata": {
        "id": "DKlfTBfly-zM"
      },
      "execution_count": null,
      "outputs": []
    },
    {
      "cell_type": "code",
      "source": [
        "!curl https://loca.lt/mytunnelpassword ## This is your password to localtunnel"
      ],
      "metadata": {
        "id": "xO6jSgxf_842"
      },
      "execution_count": null,
      "outputs": []
    },
    {
      "cell_type": "code",
      "source": [
        "!nohup poetry run python -m streamlit run /content/Chat-with-your-own-document/Chat-with-your-own-document/app.py --server.port 50001 &"
      ],
      "metadata": {
        "id": "OXHR7YTS-9vW"
      },
      "execution_count": null,
      "outputs": []
    },
    {
      "cell_type": "code",
      "source": [
        "!npx localtunnel --port 50001"
      ],
      "metadata": {
        "id": "ke1LUz6_ACBx"
      },
      "execution_count": null,
      "outputs": []
    },
    {
      "cell_type": "code",
      "source": [
        "!cat /content/Chat-with-your-own-document/Chat-with-your-own-document/nohup.out\n",
        "# ! rm /content/Chat-with-your-own-document/Chat-with-your-own-document/nohup.out"
      ],
      "metadata": {
        "id": "OL5DPTMXsjpK"
      },
      "execution_count": null,
      "outputs": []
    }
  ]
}